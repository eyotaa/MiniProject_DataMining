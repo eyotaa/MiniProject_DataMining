{
  "nbformat": 4,
  "nbformat_minor": 0,
  "metadata": {
    "colab": {
      "provenance": []
    },
    "kernelspec": {
      "name": "python3",
      "display_name": "Python 3"
    },
    "language_info": {
      "name": "python"
    }
  },
  "cells": [
    {
      "cell_type": "markdown",
      "source": [
        "###Nama : Rikad anggoro putra\n",
        "###NIM : 2209116044\n",
        "###Kelas : Sistem Infromasi A 2022\n",
        "\n",
        "\n",
        "---\n",
        "\n",
        "\n",
        "##<b>bussiness understanding\n",
        "1. Business Objective <br>\n",
        "Memahami pergerakan harga saham BBRI.JK di masa lalu: Dengan menganalisis data historis, kita dapat mengidentifikasi pola dan tren yang dapat membantu memprediksi pergerakan harga saham di masa depan.<br>\n",
        ">A. Mengevaluasi kinerja BBRI.JK:<br>\n",
        " Analisis data historis dapat membantu kita menilai kinerja BBRI.JK dibandingkan dengan perusahaan lain di sektor perbankan dan pasar secara keseluruhan.<BR>\n",
        "B. Mengidentifikasi peluang investasi:<BR> Dengan memahami pergerakan harga saham BBRI.JK dan kinerja perusahaan, kita dapat mengidentifikasi peluang investasi yang potensial.\n",
        "\n",
        "1. Assess Situation <br>\n",
        "Dengan kapitalisasi pasar lebih dari Rp 1.000 triliun, BBRI.JK adalah salah satu bank terbesar di Indonesia. Bank ini memiliki sejarah yang panjang dan dihormati, dan selama bertahun-tahun, telah menunjukkan kinerja yang konsisten dan menguntungkan.\n",
        "Namun, BBRI.JK tidak terlepas dari ketidakpastian pasar, seperti halnya perusahaan lainnya. Dalam beberapa tahun terakhir, harga saham BBRI.JK telah mengalami fluktuasi yang signifikan, yang dipengaruhi oleh sejumlah variabel, termasuk kebijakan pemerintah, kinerja industri perbankan, dan kondisi ekonomi makro.\n",
        "\n",
        "1. Data Mining Goals <br>\n",
        "Tujuan penambangan dataset dari harga saham BBRI.JK sebelumnya adalah untuk:<BR>\n",
        ">A. Mengidentifikasi pola dan tren:<BR> Kami dapat menemukan pola dan tren dalam data yang tidak mudah terlihat dengan mata telanjang dengan menggunakan teknik data mining.<BR>\n",
        "B. Membangun model prediktif:<BR> Anda dapat menggunakan model prediktif untuk memprediksi bagaimana harga saham BBRI.JK akan bergerak di masa depan.\n",
        "Mengembangkan strategi investasi: Analisis data sebelumnya dapat digunakan untuk mengembangkan strategi investasi.\n",
        "\n",
        "1. Project Plan <br>\n",
        "Rencana proyek untuk analisis data historis harga saham BBRI.JK adalah sebagai Berikut:<BR>\n",
        ">A. Pengumpulan data:<BR>\n",
        " Data harga saham BBRI.JK sebelumnya akan dikumpulkan dari berbagai sumber, seperti Bursa Efek Indonesia, Yahoo! Finansial, dan Google! Finansial.<BR>\n",
        "B. Pembersihan data:<BR> Untuk menghilangkan nilai yang hilang dan tidak akurat, data yang dikumpulkan akan dibersihkan.<BR>\n",
        "C.Analisis data:<BR> Berbagai teknik statistik dan data mining akan digunakan untuk menganalisis data yang dibersihkan.<BR>\n",
        "D. Konstruksi model prediktif:<BR> Model prediktif akan dibangun untuk memprediksi bagaimana harga saham BBRI.JK akan bergerak di masa depan.<BR>\n",
        "E. Pengembangan strategi investasi:<BR> Berdasarkan analisis data sebelumnya, strategi investasi akan dikembangkan.\n",
        "\n",
        "\n",
        "\n",
        "\n",
        "Kesimpulan:\n",
        "Analisis data historis harga saham BBRI.JK dapat memberikan wawasan yang berharga tentang pergerakan harga saham di masa lalu dan kinerja perusahaan. Informasi ini dapat digunakan untuk memprediksi pergerakan harga saham di masa depan, mengevaluasi kinerja BBRI.JK, dan mengidentifikasi peluang investasi.\n",
        "\n"
      ],
      "metadata": {
        "id": "4ag979r7vTAW"
      }
    },
    {
      "cell_type": "code",
      "source": [],
      "metadata": {
        "id": "tTZQDdV0zo-p"
      },
      "execution_count": null,
      "outputs": []
    }
  ]
}
