{
  "nbformat": 4,
  "nbformat_minor": 0,
  "metadata": {
    "colab": {
      "provenance": [],
      "toc_visible": true
    },
    "kernelspec": {
      "name": "python3",
      "display_name": "Python 3"
    },
    "language_info": {
      "name": "python"
    }
  },
  "cells": [
    {
      "cell_type": "markdown",
      "source": [
        "# **Analisis terhadap Bank Rakyat Indonesia Stock Historical Price**"
      ],
      "metadata": {
        "id": "h3AZjxo2ZxS6"
      }
    },
    {
      "cell_type": "markdown",
      "source": [
        "#**Import Library**"
      ],
      "metadata": {
        "id": "JNBmfbIjWxgM"
      }
    },
    {
      "cell_type": "code",
      "source": [
        "import pandas as pd\n",
        "import plotly.graph_objects as go\n",
        "from plotly.subplots import make_subplots\n",
        "import matplotlib.pyplot as plt\n",
        "import seaborn as sns\n",
        "from IPython.display import Image\n"
      ],
      "metadata": {
        "id": "JsnHJGLtW06a"
      },
      "execution_count": 135,
      "outputs": []
    },
    {
      "cell_type": "markdown",
      "source": [
        "#**BUSINESS UNDERSTANDING**"
      ],
      "metadata": {
        "id": "NjuQhrNyZtm3"
      }
    },
    {
      "cell_type": "markdown",
      "source": [
        "Analisis data historis harga saham BBRI.JK dapat memberikan wawasan yang berharga tentang pergerakan harga saham di masa lalu dan kinerja perusahaan. Informasi ini dapat digunakan untuk memprediksi pergerakan harga saham di masa depan, mengevaluasi kinerja BBRI.JK, dan mengidentifikasi peluang investasi."
      ],
      "metadata": {
        "id": "KEh0qObwMRpp"
      }
    },
    {
      "cell_type": "markdown",
      "source": [
        "##**Business Objective**"
      ],
      "metadata": {
        "id": "qzSZy2KwZ4zx"
      }
    },
    {
      "cell_type": "markdown",
      "source": [
        "Business Objective\n",
        "Memahami pergerakan harga saham BBRI.JK di masa lalu: Dengan menganalisis data historis, kita dapat mengidentifikasi pola dan tren yang dapat membantu memprediksi pergerakan harga saham di masa depan.<br>\n",
        "A. Mengevaluasi kinerja BBRI.JK:<br>\n",
        "Analisis data historis dapat membantu kita menilai kinerja BBRI.JK dibandingkan dengan perusahaan lain di sektor perbankan dan pasar secara keseluruhan.<br>\n",
        "B. Mengidentifikasi peluang investasi:<br>\n",
        "Dengan memahami pergerakan harga saham BBRI.JK dan kinerja perusahaan, kita dapat mengidentifikasi peluang investasi yang potensial."
      ],
      "metadata": {
        "id": "hU2-bH_KZ8Ge"
      }
    },
    {
      "cell_type": "markdown",
      "source": [
        "##**Assess Situation**"
      ],
      "metadata": {
        "id": "3dTYY-qjZ_Yz"
      }
    },
    {
      "cell_type": "markdown",
      "source": [
        "Dengan kapitalisasi pasar lebih dari Rp 1.000 triliun, BBRI.JK adalah salah satu bank terbesar di Indonesia. Bank ini memiliki sejarah yang panjang dan dihormati, dan selama bertahun-tahun, telah menunjukkan kinerja yang konsisten dan menguntungkan. Namun, BBRI.JK tidak terlepas dari ketidakpastian pasar, seperti halnya perusahaan lainnya. Dalam beberapa tahun terakhir, harga saham BBRI.JK telah mengalami fluktuasi yang signifikan, yang dipengaruhi oleh sejumlah variabel, termasuk kebijakan pemerintah, kinerja industri perbankan, dan kondisi ekonomi makro."
      ],
      "metadata": {
        "id": "3mI7ZTjDaGnC"
      }
    },
    {
      "cell_type": "markdown",
      "source": [
        "##**Data Mining Goals**"
      ],
      "metadata": {
        "id": "Tqvpt5r-aJKs"
      }
    },
    {
      "cell_type": "markdown",
      "source": [
        "Tujuan penambangan dataset dari harga saham BBRI.JK sebelumnya adalah untuk:\n",
        "\n",
        "A. Mengidentifikasi pola dan tren:<br>\n",
        "Kami dapat menemukan pola dan tren dalam data yang tidak mudah terlihat dengan mata telanjang dengan menggunakan teknik data mining.<br>\n",
        "B. Membangun model prediktif:<br>\n",
        "Anda dapat menggunakan model prediktif untuk memprediksi bagaimana harga saham BBRI.JK akan bergerak di masa depan. Mengembangkan strategi investasi: Analisis data sebelumnya dapat digunakan untuk mengembangkan strategi investasi."
      ],
      "metadata": {
        "id": "GXsyNC0zaO-o"
      }
    },
    {
      "cell_type": "markdown",
      "source": [
        "##**Project Plan**"
      ],
      "metadata": {
        "id": "78Yvo7Q9aRTt"
      }
    },
    {
      "cell_type": "markdown",
      "source": [
        "Rencana proyek untuk analisis data historis harga saham BBRI.JK adalah sebagai Berikut:<br>\n",
        "A. Pengumpulan data:<br>\n",
        "Data harga saham BBRI.JK sebelumnya akan dikumpulkan dari berbagai sumber, seperti Bursa Efek Indonesia, Yahoo! Finansial, dan Google! Finansial.<br>\n",
        "B. Pembersihan data:<br>\n",
        "Untuk menghilangkan nilai yang hilang dan tidak akurat, data yang dikumpulkan akan dibersihkan.<br>\n",
        "C.Analisis data:<br>\n",
        "Berbagai teknik statistik dan data mining akan digunakan untuk menganalisis data yang dibersihkan.<br>\n",
        "D. Konstruksi model prediktif:<br>\n",
        "Model prediktif akan dibangun untuk memprediksi bagaimana harga saham BBRI.JK akan bergerak di masa depan.<br>\n",
        "E. Pengembangan strategi investasi:<br>\n",
        "Berdasarkan analisis data sebelumnya, strategi investasi akan dikembangkan."
      ],
      "metadata": {
        "id": "H0uheBdyaUfH"
      }
    },
    {
      "cell_type": "markdown",
      "source": [
        "#**DATA UNDERSTANDING**"
      ],
      "metadata": {
        "id": "8yFrLpBtZXuy"
      }
    },
    {
      "cell_type": "markdown",
      "source": [
        "##**Collect Initial Data**"
      ],
      "metadata": {
        "id": "tjm5LzEuT0oe"
      }
    },
    {
      "cell_type": "markdown",
      "source": [
        "sumber data ini didapat dari situs kaggel https://www.kaggle.com/datasets/caesarmario/bank-rakyat-indonesia-stock-historical-price\n",
        "data ini adalah riwayat harga saham bbri dari 2019 hingga 2024\n",
        "terdapat 3 buah data yang merupakan data harian,mingguan,bulanan dari 2019 hingga 2024"
      ],
      "metadata": {
        "id": "SsIGird1UBw8"
      }
    },
    {
      "cell_type": "code",
      "execution_count": 131,
      "metadata": {
        "id": "3ncBfThxSpiL"
      },
      "outputs": [],
      "source": [
        "df= pd.read_csv('https://raw.githubusercontent.com/eyotaa/MiniProject_DataMining/main/checkpoin%201/BBRI.JK.csv')"
      ]
    },
    {
      "cell_type": "markdown",
      "source": [
        "####Daily"
      ],
      "metadata": {
        "id": "iaEm56HpUqUX"
      }
    },
    {
      "cell_type": "code",
      "source": [
        "df"
      ],
      "metadata": {
        "colab": {
          "base_uri": "https://localhost:8080/",
          "height": 423
        },
        "id": "_-hl_CzJUp73",
        "outputId": "9ebfb189-1148-40c4-ccb2-986589ae121a"
      },
      "execution_count": 132,
      "outputs": [
        {
          "output_type": "execute_result",
          "data": {
            "text/plain": [
              "            Date         Open         High          Low        Close  \\\n",
              "0     2019-01-01  3327.215332  3327.215332  3327.215332  3327.215332   \n",
              "1     2019-01-02  3281.761475  3309.033691  3263.580078  3281.761475   \n",
              "2     2019-01-03  3254.489258  3309.033691  3254.489258  3290.852295   \n",
              "3     2019-01-04  3290.852295  3327.215332  3281.761475  3327.215332   \n",
              "4     2019-01-07  3363.578369  3372.668945  3327.215332  3327.215332   \n",
              "...          ...          ...          ...          ...          ...   \n",
              "1267  2024-02-23  6125.000000  6175.000000  6050.000000  6125.000000   \n",
              "1268  2024-02-26  6100.000000  6200.000000  6075.000000  6175.000000   \n",
              "1269  2024-02-27  6125.000000  6200.000000  6125.000000  6125.000000   \n",
              "1270  2024-02-28  6100.000000  6225.000000  6100.000000  6225.000000   \n",
              "1271  2024-02-29  6150.000000  6200.000000  6125.000000  6125.000000   \n",
              "\n",
              "        Adj Close     Volume  \n",
              "0     2692.883301          0  \n",
              "1     2656.094971   82441033  \n",
              "2     2663.452881  102805905  \n",
              "3     2692.883301  125907734  \n",
              "4     2692.883301   82106628  \n",
              "...           ...        ...  \n",
              "1267  6125.000000  148643000  \n",
              "1268  6175.000000   98920800  \n",
              "1269  6125.000000   99187500  \n",
              "1270  6225.000000   97236700  \n",
              "1271  6125.000000  173774600  \n",
              "\n",
              "[1272 rows x 7 columns]"
            ],
            "text/html": [
              "\n",
              "  <div id=\"df-b66e6770-9526-4525-9a36-305853af501b\" class=\"colab-df-container\">\n",
              "    <div>\n",
              "<style scoped>\n",
              "    .dataframe tbody tr th:only-of-type {\n",
              "        vertical-align: middle;\n",
              "    }\n",
              "\n",
              "    .dataframe tbody tr th {\n",
              "        vertical-align: top;\n",
              "    }\n",
              "\n",
              "    .dataframe thead th {\n",
              "        text-align: right;\n",
              "    }\n",
              "</style>\n",
              "<table border=\"1\" class=\"dataframe\">\n",
              "  <thead>\n",
              "    <tr style=\"text-align: right;\">\n",
              "      <th></th>\n",
              "      <th>Date</th>\n",
              "      <th>Open</th>\n",
              "      <th>High</th>\n",
              "      <th>Low</th>\n",
              "      <th>Close</th>\n",
              "      <th>Adj Close</th>\n",
              "      <th>Volume</th>\n",
              "    </tr>\n",
              "  </thead>\n",
              "  <tbody>\n",
              "    <tr>\n",
              "      <th>0</th>\n",
              "      <td>2019-01-01</td>\n",
              "      <td>3327.215332</td>\n",
              "      <td>3327.215332</td>\n",
              "      <td>3327.215332</td>\n",
              "      <td>3327.215332</td>\n",
              "      <td>2692.883301</td>\n",
              "      <td>0</td>\n",
              "    </tr>\n",
              "    <tr>\n",
              "      <th>1</th>\n",
              "      <td>2019-01-02</td>\n",
              "      <td>3281.761475</td>\n",
              "      <td>3309.033691</td>\n",
              "      <td>3263.580078</td>\n",
              "      <td>3281.761475</td>\n",
              "      <td>2656.094971</td>\n",
              "      <td>82441033</td>\n",
              "    </tr>\n",
              "    <tr>\n",
              "      <th>2</th>\n",
              "      <td>2019-01-03</td>\n",
              "      <td>3254.489258</td>\n",
              "      <td>3309.033691</td>\n",
              "      <td>3254.489258</td>\n",
              "      <td>3290.852295</td>\n",
              "      <td>2663.452881</td>\n",
              "      <td>102805905</td>\n",
              "    </tr>\n",
              "    <tr>\n",
              "      <th>3</th>\n",
              "      <td>2019-01-04</td>\n",
              "      <td>3290.852295</td>\n",
              "      <td>3327.215332</td>\n",
              "      <td>3281.761475</td>\n",
              "      <td>3327.215332</td>\n",
              "      <td>2692.883301</td>\n",
              "      <td>125907734</td>\n",
              "    </tr>\n",
              "    <tr>\n",
              "      <th>4</th>\n",
              "      <td>2019-01-07</td>\n",
              "      <td>3363.578369</td>\n",
              "      <td>3372.668945</td>\n",
              "      <td>3327.215332</td>\n",
              "      <td>3327.215332</td>\n",
              "      <td>2692.883301</td>\n",
              "      <td>82106628</td>\n",
              "    </tr>\n",
              "    <tr>\n",
              "      <th>...</th>\n",
              "      <td>...</td>\n",
              "      <td>...</td>\n",
              "      <td>...</td>\n",
              "      <td>...</td>\n",
              "      <td>...</td>\n",
              "      <td>...</td>\n",
              "      <td>...</td>\n",
              "    </tr>\n",
              "    <tr>\n",
              "      <th>1267</th>\n",
              "      <td>2024-02-23</td>\n",
              "      <td>6125.000000</td>\n",
              "      <td>6175.000000</td>\n",
              "      <td>6050.000000</td>\n",
              "      <td>6125.000000</td>\n",
              "      <td>6125.000000</td>\n",
              "      <td>148643000</td>\n",
              "    </tr>\n",
              "    <tr>\n",
              "      <th>1268</th>\n",
              "      <td>2024-02-26</td>\n",
              "      <td>6100.000000</td>\n",
              "      <td>6200.000000</td>\n",
              "      <td>6075.000000</td>\n",
              "      <td>6175.000000</td>\n",
              "      <td>6175.000000</td>\n",
              "      <td>98920800</td>\n",
              "    </tr>\n",
              "    <tr>\n",
              "      <th>1269</th>\n",
              "      <td>2024-02-27</td>\n",
              "      <td>6125.000000</td>\n",
              "      <td>6200.000000</td>\n",
              "      <td>6125.000000</td>\n",
              "      <td>6125.000000</td>\n",
              "      <td>6125.000000</td>\n",
              "      <td>99187500</td>\n",
              "    </tr>\n",
              "    <tr>\n",
              "      <th>1270</th>\n",
              "      <td>2024-02-28</td>\n",
              "      <td>6100.000000</td>\n",
              "      <td>6225.000000</td>\n",
              "      <td>6100.000000</td>\n",
              "      <td>6225.000000</td>\n",
              "      <td>6225.000000</td>\n",
              "      <td>97236700</td>\n",
              "    </tr>\n",
              "    <tr>\n",
              "      <th>1271</th>\n",
              "      <td>2024-02-29</td>\n",
              "      <td>6150.000000</td>\n",
              "      <td>6200.000000</td>\n",
              "      <td>6125.000000</td>\n",
              "      <td>6125.000000</td>\n",
              "      <td>6125.000000</td>\n",
              "      <td>173774600</td>\n",
              "    </tr>\n",
              "  </tbody>\n",
              "</table>\n",
              "<p>1272 rows × 7 columns</p>\n",
              "</div>\n",
              "    <div class=\"colab-df-buttons\">\n",
              "\n",
              "  <div class=\"colab-df-container\">\n",
              "    <button class=\"colab-df-convert\" onclick=\"convertToInteractive('df-b66e6770-9526-4525-9a36-305853af501b')\"\n",
              "            title=\"Convert this dataframe to an interactive table.\"\n",
              "            style=\"display:none;\">\n",
              "\n",
              "  <svg xmlns=\"http://www.w3.org/2000/svg\" height=\"24px\" viewBox=\"0 -960 960 960\">\n",
              "    <path d=\"M120-120v-720h720v720H120Zm60-500h600v-160H180v160Zm220 220h160v-160H400v160Zm0 220h160v-160H400v160ZM180-400h160v-160H180v160Zm440 0h160v-160H620v160ZM180-180h160v-160H180v160Zm440 0h160v-160H620v160Z\"/>\n",
              "  </svg>\n",
              "    </button>\n",
              "\n",
              "  <style>\n",
              "    .colab-df-container {\n",
              "      display:flex;\n",
              "      gap: 12px;\n",
              "    }\n",
              "\n",
              "    .colab-df-convert {\n",
              "      background-color: #E8F0FE;\n",
              "      border: none;\n",
              "      border-radius: 50%;\n",
              "      cursor: pointer;\n",
              "      display: none;\n",
              "      fill: #1967D2;\n",
              "      height: 32px;\n",
              "      padding: 0 0 0 0;\n",
              "      width: 32px;\n",
              "    }\n",
              "\n",
              "    .colab-df-convert:hover {\n",
              "      background-color: #E2EBFA;\n",
              "      box-shadow: 0px 1px 2px rgba(60, 64, 67, 0.3), 0px 1px 3px 1px rgba(60, 64, 67, 0.15);\n",
              "      fill: #174EA6;\n",
              "    }\n",
              "\n",
              "    .colab-df-buttons div {\n",
              "      margin-bottom: 4px;\n",
              "    }\n",
              "\n",
              "    [theme=dark] .colab-df-convert {\n",
              "      background-color: #3B4455;\n",
              "      fill: #D2E3FC;\n",
              "    }\n",
              "\n",
              "    [theme=dark] .colab-df-convert:hover {\n",
              "      background-color: #434B5C;\n",
              "      box-shadow: 0px 1px 3px 1px rgba(0, 0, 0, 0.15);\n",
              "      filter: drop-shadow(0px 1px 2px rgba(0, 0, 0, 0.3));\n",
              "      fill: #FFFFFF;\n",
              "    }\n",
              "  </style>\n",
              "\n",
              "    <script>\n",
              "      const buttonEl =\n",
              "        document.querySelector('#df-b66e6770-9526-4525-9a36-305853af501b button.colab-df-convert');\n",
              "      buttonEl.style.display =\n",
              "        google.colab.kernel.accessAllowed ? 'block' : 'none';\n",
              "\n",
              "      async function convertToInteractive(key) {\n",
              "        const element = document.querySelector('#df-b66e6770-9526-4525-9a36-305853af501b');\n",
              "        const dataTable =\n",
              "          await google.colab.kernel.invokeFunction('convertToInteractive',\n",
              "                                                    [key], {});\n",
              "        if (!dataTable) return;\n",
              "\n",
              "        const docLinkHtml = 'Like what you see? Visit the ' +\n",
              "          '<a target=\"_blank\" href=https://colab.research.google.com/notebooks/data_table.ipynb>data table notebook</a>'\n",
              "          + ' to learn more about interactive tables.';\n",
              "        element.innerHTML = '';\n",
              "        dataTable['output_type'] = 'display_data';\n",
              "        await google.colab.output.renderOutput(dataTable, element);\n",
              "        const docLink = document.createElement('div');\n",
              "        docLink.innerHTML = docLinkHtml;\n",
              "        element.appendChild(docLink);\n",
              "      }\n",
              "    </script>\n",
              "  </div>\n",
              "\n",
              "\n",
              "<div id=\"df-e759a4bb-69e6-4213-81b7-c0cf975beb27\">\n",
              "  <button class=\"colab-df-quickchart\" onclick=\"quickchart('df-e759a4bb-69e6-4213-81b7-c0cf975beb27')\"\n",
              "            title=\"Suggest charts\"\n",
              "            style=\"display:none;\">\n",
              "\n",
              "<svg xmlns=\"http://www.w3.org/2000/svg\" height=\"24px\"viewBox=\"0 0 24 24\"\n",
              "     width=\"24px\">\n",
              "    <g>\n",
              "        <path d=\"M19 3H5c-1.1 0-2 .9-2 2v14c0 1.1.9 2 2 2h14c1.1 0 2-.9 2-2V5c0-1.1-.9-2-2-2zM9 17H7v-7h2v7zm4 0h-2V7h2v10zm4 0h-2v-4h2v4z\"/>\n",
              "    </g>\n",
              "</svg>\n",
              "  </button>\n",
              "\n",
              "<style>\n",
              "  .colab-df-quickchart {\n",
              "      --bg-color: #E8F0FE;\n",
              "      --fill-color: #1967D2;\n",
              "      --hover-bg-color: #E2EBFA;\n",
              "      --hover-fill-color: #174EA6;\n",
              "      --disabled-fill-color: #AAA;\n",
              "      --disabled-bg-color: #DDD;\n",
              "  }\n",
              "\n",
              "  [theme=dark] .colab-df-quickchart {\n",
              "      --bg-color: #3B4455;\n",
              "      --fill-color: #D2E3FC;\n",
              "      --hover-bg-color: #434B5C;\n",
              "      --hover-fill-color: #FFFFFF;\n",
              "      --disabled-bg-color: #3B4455;\n",
              "      --disabled-fill-color: #666;\n",
              "  }\n",
              "\n",
              "  .colab-df-quickchart {\n",
              "    background-color: var(--bg-color);\n",
              "    border: none;\n",
              "    border-radius: 50%;\n",
              "    cursor: pointer;\n",
              "    display: none;\n",
              "    fill: var(--fill-color);\n",
              "    height: 32px;\n",
              "    padding: 0;\n",
              "    width: 32px;\n",
              "  }\n",
              "\n",
              "  .colab-df-quickchart:hover {\n",
              "    background-color: var(--hover-bg-color);\n",
              "    box-shadow: 0 1px 2px rgba(60, 64, 67, 0.3), 0 1px 3px 1px rgba(60, 64, 67, 0.15);\n",
              "    fill: var(--button-hover-fill-color);\n",
              "  }\n",
              "\n",
              "  .colab-df-quickchart-complete:disabled,\n",
              "  .colab-df-quickchart-complete:disabled:hover {\n",
              "    background-color: var(--disabled-bg-color);\n",
              "    fill: var(--disabled-fill-color);\n",
              "    box-shadow: none;\n",
              "  }\n",
              "\n",
              "  .colab-df-spinner {\n",
              "    border: 2px solid var(--fill-color);\n",
              "    border-color: transparent;\n",
              "    border-bottom-color: var(--fill-color);\n",
              "    animation:\n",
              "      spin 1s steps(1) infinite;\n",
              "  }\n",
              "\n",
              "  @keyframes spin {\n",
              "    0% {\n",
              "      border-color: transparent;\n",
              "      border-bottom-color: var(--fill-color);\n",
              "      border-left-color: var(--fill-color);\n",
              "    }\n",
              "    20% {\n",
              "      border-color: transparent;\n",
              "      border-left-color: var(--fill-color);\n",
              "      border-top-color: var(--fill-color);\n",
              "    }\n",
              "    30% {\n",
              "      border-color: transparent;\n",
              "      border-left-color: var(--fill-color);\n",
              "      border-top-color: var(--fill-color);\n",
              "      border-right-color: var(--fill-color);\n",
              "    }\n",
              "    40% {\n",
              "      border-color: transparent;\n",
              "      border-right-color: var(--fill-color);\n",
              "      border-top-color: var(--fill-color);\n",
              "    }\n",
              "    60% {\n",
              "      border-color: transparent;\n",
              "      border-right-color: var(--fill-color);\n",
              "    }\n",
              "    80% {\n",
              "      border-color: transparent;\n",
              "      border-right-color: var(--fill-color);\n",
              "      border-bottom-color: var(--fill-color);\n",
              "    }\n",
              "    90% {\n",
              "      border-color: transparent;\n",
              "      border-bottom-color: var(--fill-color);\n",
              "    }\n",
              "  }\n",
              "</style>\n",
              "\n",
              "  <script>\n",
              "    async function quickchart(key) {\n",
              "      const quickchartButtonEl =\n",
              "        document.querySelector('#' + key + ' button');\n",
              "      quickchartButtonEl.disabled = true;  // To prevent multiple clicks.\n",
              "      quickchartButtonEl.classList.add('colab-df-spinner');\n",
              "      try {\n",
              "        const charts = await google.colab.kernel.invokeFunction(\n",
              "            'suggestCharts', [key], {});\n",
              "      } catch (error) {\n",
              "        console.error('Error during call to suggestCharts:', error);\n",
              "      }\n",
              "      quickchartButtonEl.classList.remove('colab-df-spinner');\n",
              "      quickchartButtonEl.classList.add('colab-df-quickchart-complete');\n",
              "    }\n",
              "    (() => {\n",
              "      let quickchartButtonEl =\n",
              "        document.querySelector('#df-e759a4bb-69e6-4213-81b7-c0cf975beb27 button');\n",
              "      quickchartButtonEl.style.display =\n",
              "        google.colab.kernel.accessAllowed ? 'block' : 'none';\n",
              "    })();\n",
              "  </script>\n",
              "</div>\n",
              "    </div>\n",
              "  </div>\n"
            ],
            "application/vnd.google.colaboratory.intrinsic+json": {
              "type": "dataframe",
              "variable_name": "df",
              "repr_error": "'str' object has no attribute 'empty'"
            }
          },
          "metadata": {},
          "execution_count": 132
        }
      ]
    },
    {
      "cell_type": "markdown",
      "source": [
        "##**Describe Data**"
      ],
      "metadata": {
        "id": "-hy6_uvIVOGH"
      }
    },
    {
      "cell_type": "markdown",
      "source": [
        "####Informasi Dasar"
      ],
      "metadata": {
        "id": "nl6nccPmUZ6F"
      }
    },
    {
      "cell_type": "code",
      "source": [
        "print(\"informasi dasar terkait dataset:\")\n",
        "print(\"jumlah baris pada data Daily\"),\n",
        "print(len(df)),\n",
        "print(\"jumlah kolom pada data Daily\"),\n",
        "print(len(df.columns))"
      ],
      "metadata": {
        "id": "zEyDvT0EUcB2",
        "colab": {
          "base_uri": "https://localhost:8080/"
        },
        "outputId": "4a488c76-02db-480f-c7f3-da4a195fff6b"
      },
      "execution_count": 69,
      "outputs": [
        {
          "output_type": "stream",
          "name": "stdout",
          "text": [
            "informasi dasar terkait dataset:\n",
            "jumlah baris pada data Daily\n",
            "1272\n",
            "jumlah kolom pada data Daily\n",
            "7\n",
            "jumlah baris pada data Weekly\n",
            "63\n",
            "jumlah kolom pada data Weekly\n",
            "7\n",
            "jumlah baris pada data Monthly\n",
            "270\n",
            "jumlah kolom pada data Monthly\n",
            "7\n"
          ]
        }
      ]
    },
    {
      "cell_type": "markdown",
      "source": [
        "pada masing masing data di atas memiliki jumlah bris 1272 pada data daily, 270 untuk weekly, 63 untuk montly dan untuk kolom nya berjumah sama yaitu 7 yang meliputi (open, high, low, close, adj close dan volume)"
      ],
      "metadata": {
        "id": "ZwH62IRTVXNL"
      }
    },
    {
      "cell_type": "markdown",
      "source": [
        "####Informasi Lanjutan"
      ],
      "metadata": {
        "id": "BXEzaPAHVMPd"
      }
    },
    {
      "cell_type": "code",
      "source": [
        "print(\"informasi lanjutan terkait dataaset ini\"),\n",
        "df.info()\n",
        "#Ketikan kode di sini, untuk menampilkan informasi lengkap dari dataset kalian"
      ],
      "metadata": {
        "id": "L1CvPak8VHOF",
        "colab": {
          "base_uri": "https://localhost:8080/"
        },
        "outputId": "27e364c2-db70-4267-cf89-2b5520011069"
      },
      "execution_count": 70,
      "outputs": [
        {
          "output_type": "stream",
          "name": "stdout",
          "text": [
            "informasi lanjutan terkait dataaset ini\n",
            "<class 'pandas.core.frame.DataFrame'>\n",
            "RangeIndex: 1272 entries, 0 to 1271\n",
            "Data columns (total 7 columns):\n",
            " #   Column     Non-Null Count  Dtype  \n",
            "---  ------     --------------  -----  \n",
            " 0   Date       1272 non-null   object \n",
            " 1   Open       1272 non-null   float64\n",
            " 2   High       1272 non-null   float64\n",
            " 3   Low        1272 non-null   float64\n",
            " 4   Close      1272 non-null   float64\n",
            " 5   Adj Close  1272 non-null   float64\n",
            " 6   Volume     1272 non-null   int64  \n",
            "dtypes: float64(5), int64(1), object(1)\n",
            "memory usage: 69.7+ KB\n"
          ]
        }
      ]
    },
    {
      "cell_type": "markdown",
      "source": [
        "Penjelasan Open, High, Low, Close, Adj Close, dan Volume pada Saham\n",
        "Berikut adalah penjelasan mengenai istilah-istilah yang Anda sebutkan:\n",
        "1. date (tanggal)object\n",
        "<br> funsi date adaalah diamana tanggal terjadinya saham dibuka dan ditutup\n",
        "1. Open (Harga Pembukaan)float\n",
        "<br>Harga pembukaan adalah harga pertama yang diperdagangkan pada suatu hari untuk suatu saham. Harga ini ditentukan berdasarkan keseimbangan antara pembeli dan penjual pada saat pasar dibuka.\n",
        "\n",
        "1. High (Harga Tertinggi)float\n",
        "<br>Harga tertinggi adalah harga tertinggi yang dicapai suatu saham selama perdagangan pada suatu hari.\n",
        "\n",
        "1. Low (Harga Terendah)float\n",
        "<br>Harga terendah adalah harga terendah yang dicapai suatu saham selama perdagangan pada suatu hari.\n",
        "\n",
        "1. Close (Harga Penutupan)float\n",
        "<br>Harga penutupan adalah harga terakhir yang diperdagangkan pada suatu hari untuk suatu saham. Harga ini menentukan nilai akhir suatu saham pada hari tersebut.\n",
        "\n",
        "1. Adj Close (Harga Penutupan yang Disesuaikan)float\n",
        "<br>Harga penutupan yang disesuaikan adalah harga penutupan yang telah diubah untuk memperhitungkan peristiwa korporasi seperti pemecahan saham dan dividen. Harga ini digunakan untuk melacak kinerja saham secara lebih akurat dari waktu ke waktu.\n",
        "\n",
        "1. Volume (Volume Perdagangan)int\n",
        "<br>Volume perdagangan adalah jumlah saham yang diperdagangkan pada suatu hari. Volume tinggi menunjukkan bahwa banyak investor yang tertarik pada saham tersebut, sedangkan volume rendah menunjukkan sebaliknya."
      ],
      "metadata": {
        "id": "-6miym5GVbaC"
      }
    },
    {
      "cell_type": "markdown",
      "source": [
        "####Informasi Statistik Deskriptif"
      ],
      "metadata": {
        "id": "D5GD3qzXVrF5"
      }
    },
    {
      "cell_type": "code",
      "source": [
        "df.describe()"
      ],
      "metadata": {
        "id": "rHdqc2OkVuPC",
        "colab": {
          "base_uri": "https://localhost:8080/",
          "height": 300
        },
        "outputId": "35f9f7c3-3046-4913-ac56-524af6f34068"
      },
      "execution_count": 71,
      "outputs": [
        {
          "output_type": "execute_result",
          "data": {
            "text/plain": [
              "              Open         High          Low        Close    Adj Close  \\\n",
              "count  1272.000000  1272.000000  1272.000000  1272.000000  1272.000000   \n",
              "mean   4162.454362  4205.367449  4114.033954  4158.173429  3764.062767   \n",
              "std     809.132909   809.675030   811.801597   812.946000   942.411240   \n",
              "min    2045.419189  2063.600830  1963.602417  1972.693237  1717.858765   \n",
              "25%    3645.391602  3699.936035  3599.937744  3644.043701  3139.101074   \n",
              "50%    4109.510010  4147.691406  4070.000000  4109.510010  3568.853760   \n",
              "75%    4650.000000  4682.500000  4600.000000  4640.000000  4311.354980   \n",
              "max    6325.000000  6375.000000  6225.000000  6300.000000  6300.000000   \n",
              "\n",
              "             Volume  \n",
              "count  1.272000e+03  \n",
              "mean   1.565900e+08  \n",
              "std    9.958485e+07  \n",
              "min    0.000000e+00  \n",
              "25%    9.579682e+07  \n",
              "50%    1.314421e+08  \n",
              "75%    1.844417e+08  \n",
              "max    9.598846e+08  "
            ],
            "text/html": [
              "\n",
              "  <div id=\"df-e493e41e-3f56-42a7-90e0-8715d71c763e\" class=\"colab-df-container\">\n",
              "    <div>\n",
              "<style scoped>\n",
              "    .dataframe tbody tr th:only-of-type {\n",
              "        vertical-align: middle;\n",
              "    }\n",
              "\n",
              "    .dataframe tbody tr th {\n",
              "        vertical-align: top;\n",
              "    }\n",
              "\n",
              "    .dataframe thead th {\n",
              "        text-align: right;\n",
              "    }\n",
              "</style>\n",
              "<table border=\"1\" class=\"dataframe\">\n",
              "  <thead>\n",
              "    <tr style=\"text-align: right;\">\n",
              "      <th></th>\n",
              "      <th>Open</th>\n",
              "      <th>High</th>\n",
              "      <th>Low</th>\n",
              "      <th>Close</th>\n",
              "      <th>Adj Close</th>\n",
              "      <th>Volume</th>\n",
              "    </tr>\n",
              "  </thead>\n",
              "  <tbody>\n",
              "    <tr>\n",
              "      <th>count</th>\n",
              "      <td>1272.000000</td>\n",
              "      <td>1272.000000</td>\n",
              "      <td>1272.000000</td>\n",
              "      <td>1272.000000</td>\n",
              "      <td>1272.000000</td>\n",
              "      <td>1.272000e+03</td>\n",
              "    </tr>\n",
              "    <tr>\n",
              "      <th>mean</th>\n",
              "      <td>4162.454362</td>\n",
              "      <td>4205.367449</td>\n",
              "      <td>4114.033954</td>\n",
              "      <td>4158.173429</td>\n",
              "      <td>3764.062767</td>\n",
              "      <td>1.565900e+08</td>\n",
              "    </tr>\n",
              "    <tr>\n",
              "      <th>std</th>\n",
              "      <td>809.132909</td>\n",
              "      <td>809.675030</td>\n",
              "      <td>811.801597</td>\n",
              "      <td>812.946000</td>\n",
              "      <td>942.411240</td>\n",
              "      <td>9.958485e+07</td>\n",
              "    </tr>\n",
              "    <tr>\n",
              "      <th>min</th>\n",
              "      <td>2045.419189</td>\n",
              "      <td>2063.600830</td>\n",
              "      <td>1963.602417</td>\n",
              "      <td>1972.693237</td>\n",
              "      <td>1717.858765</td>\n",
              "      <td>0.000000e+00</td>\n",
              "    </tr>\n",
              "    <tr>\n",
              "      <th>25%</th>\n",
              "      <td>3645.391602</td>\n",
              "      <td>3699.936035</td>\n",
              "      <td>3599.937744</td>\n",
              "      <td>3644.043701</td>\n",
              "      <td>3139.101074</td>\n",
              "      <td>9.579682e+07</td>\n",
              "    </tr>\n",
              "    <tr>\n",
              "      <th>50%</th>\n",
              "      <td>4109.510010</td>\n",
              "      <td>4147.691406</td>\n",
              "      <td>4070.000000</td>\n",
              "      <td>4109.510010</td>\n",
              "      <td>3568.853760</td>\n",
              "      <td>1.314421e+08</td>\n",
              "    </tr>\n",
              "    <tr>\n",
              "      <th>75%</th>\n",
              "      <td>4650.000000</td>\n",
              "      <td>4682.500000</td>\n",
              "      <td>4600.000000</td>\n",
              "      <td>4640.000000</td>\n",
              "      <td>4311.354980</td>\n",
              "      <td>1.844417e+08</td>\n",
              "    </tr>\n",
              "    <tr>\n",
              "      <th>max</th>\n",
              "      <td>6325.000000</td>\n",
              "      <td>6375.000000</td>\n",
              "      <td>6225.000000</td>\n",
              "      <td>6300.000000</td>\n",
              "      <td>6300.000000</td>\n",
              "      <td>9.598846e+08</td>\n",
              "    </tr>\n",
              "  </tbody>\n",
              "</table>\n",
              "</div>\n",
              "    <div class=\"colab-df-buttons\">\n",
              "\n",
              "  <div class=\"colab-df-container\">\n",
              "    <button class=\"colab-df-convert\" onclick=\"convertToInteractive('df-e493e41e-3f56-42a7-90e0-8715d71c763e')\"\n",
              "            title=\"Convert this dataframe to an interactive table.\"\n",
              "            style=\"display:none;\">\n",
              "\n",
              "  <svg xmlns=\"http://www.w3.org/2000/svg\" height=\"24px\" viewBox=\"0 -960 960 960\">\n",
              "    <path d=\"M120-120v-720h720v720H120Zm60-500h600v-160H180v160Zm220 220h160v-160H400v160Zm0 220h160v-160H400v160ZM180-400h160v-160H180v160Zm440 0h160v-160H620v160ZM180-180h160v-160H180v160Zm440 0h160v-160H620v160Z\"/>\n",
              "  </svg>\n",
              "    </button>\n",
              "\n",
              "  <style>\n",
              "    .colab-df-container {\n",
              "      display:flex;\n",
              "      gap: 12px;\n",
              "    }\n",
              "\n",
              "    .colab-df-convert {\n",
              "      background-color: #E8F0FE;\n",
              "      border: none;\n",
              "      border-radius: 50%;\n",
              "      cursor: pointer;\n",
              "      display: none;\n",
              "      fill: #1967D2;\n",
              "      height: 32px;\n",
              "      padding: 0 0 0 0;\n",
              "      width: 32px;\n",
              "    }\n",
              "\n",
              "    .colab-df-convert:hover {\n",
              "      background-color: #E2EBFA;\n",
              "      box-shadow: 0px 1px 2px rgba(60, 64, 67, 0.3), 0px 1px 3px 1px rgba(60, 64, 67, 0.15);\n",
              "      fill: #174EA6;\n",
              "    }\n",
              "\n",
              "    .colab-df-buttons div {\n",
              "      margin-bottom: 4px;\n",
              "    }\n",
              "\n",
              "    [theme=dark] .colab-df-convert {\n",
              "      background-color: #3B4455;\n",
              "      fill: #D2E3FC;\n",
              "    }\n",
              "\n",
              "    [theme=dark] .colab-df-convert:hover {\n",
              "      background-color: #434B5C;\n",
              "      box-shadow: 0px 1px 3px 1px rgba(0, 0, 0, 0.15);\n",
              "      filter: drop-shadow(0px 1px 2px rgba(0, 0, 0, 0.3));\n",
              "      fill: #FFFFFF;\n",
              "    }\n",
              "  </style>\n",
              "\n",
              "    <script>\n",
              "      const buttonEl =\n",
              "        document.querySelector('#df-e493e41e-3f56-42a7-90e0-8715d71c763e button.colab-df-convert');\n",
              "      buttonEl.style.display =\n",
              "        google.colab.kernel.accessAllowed ? 'block' : 'none';\n",
              "\n",
              "      async function convertToInteractive(key) {\n",
              "        const element = document.querySelector('#df-e493e41e-3f56-42a7-90e0-8715d71c763e');\n",
              "        const dataTable =\n",
              "          await google.colab.kernel.invokeFunction('convertToInteractive',\n",
              "                                                    [key], {});\n",
              "        if (!dataTable) return;\n",
              "\n",
              "        const docLinkHtml = 'Like what you see? Visit the ' +\n",
              "          '<a target=\"_blank\" href=https://colab.research.google.com/notebooks/data_table.ipynb>data table notebook</a>'\n",
              "          + ' to learn more about interactive tables.';\n",
              "        element.innerHTML = '';\n",
              "        dataTable['output_type'] = 'display_data';\n",
              "        await google.colab.output.renderOutput(dataTable, element);\n",
              "        const docLink = document.createElement('div');\n",
              "        docLink.innerHTML = docLinkHtml;\n",
              "        element.appendChild(docLink);\n",
              "      }\n",
              "    </script>\n",
              "  </div>\n",
              "\n",
              "\n",
              "<div id=\"df-03e4fab2-4a49-48b3-8564-c14a8002eb2a\">\n",
              "  <button class=\"colab-df-quickchart\" onclick=\"quickchart('df-03e4fab2-4a49-48b3-8564-c14a8002eb2a')\"\n",
              "            title=\"Suggest charts\"\n",
              "            style=\"display:none;\">\n",
              "\n",
              "<svg xmlns=\"http://www.w3.org/2000/svg\" height=\"24px\"viewBox=\"0 0 24 24\"\n",
              "     width=\"24px\">\n",
              "    <g>\n",
              "        <path d=\"M19 3H5c-1.1 0-2 .9-2 2v14c0 1.1.9 2 2 2h14c1.1 0 2-.9 2-2V5c0-1.1-.9-2-2-2zM9 17H7v-7h2v7zm4 0h-2V7h2v10zm4 0h-2v-4h2v4z\"/>\n",
              "    </g>\n",
              "</svg>\n",
              "  </button>\n",
              "\n",
              "<style>\n",
              "  .colab-df-quickchart {\n",
              "      --bg-color: #E8F0FE;\n",
              "      --fill-color: #1967D2;\n",
              "      --hover-bg-color: #E2EBFA;\n",
              "      --hover-fill-color: #174EA6;\n",
              "      --disabled-fill-color: #AAA;\n",
              "      --disabled-bg-color: #DDD;\n",
              "  }\n",
              "\n",
              "  [theme=dark] .colab-df-quickchart {\n",
              "      --bg-color: #3B4455;\n",
              "      --fill-color: #D2E3FC;\n",
              "      --hover-bg-color: #434B5C;\n",
              "      --hover-fill-color: #FFFFFF;\n",
              "      --disabled-bg-color: #3B4455;\n",
              "      --disabled-fill-color: #666;\n",
              "  }\n",
              "\n",
              "  .colab-df-quickchart {\n",
              "    background-color: var(--bg-color);\n",
              "    border: none;\n",
              "    border-radius: 50%;\n",
              "    cursor: pointer;\n",
              "    display: none;\n",
              "    fill: var(--fill-color);\n",
              "    height: 32px;\n",
              "    padding: 0;\n",
              "    width: 32px;\n",
              "  }\n",
              "\n",
              "  .colab-df-quickchart:hover {\n",
              "    background-color: var(--hover-bg-color);\n",
              "    box-shadow: 0 1px 2px rgba(60, 64, 67, 0.3), 0 1px 3px 1px rgba(60, 64, 67, 0.15);\n",
              "    fill: var(--button-hover-fill-color);\n",
              "  }\n",
              "\n",
              "  .colab-df-quickchart-complete:disabled,\n",
              "  .colab-df-quickchart-complete:disabled:hover {\n",
              "    background-color: var(--disabled-bg-color);\n",
              "    fill: var(--disabled-fill-color);\n",
              "    box-shadow: none;\n",
              "  }\n",
              "\n",
              "  .colab-df-spinner {\n",
              "    border: 2px solid var(--fill-color);\n",
              "    border-color: transparent;\n",
              "    border-bottom-color: var(--fill-color);\n",
              "    animation:\n",
              "      spin 1s steps(1) infinite;\n",
              "  }\n",
              "\n",
              "  @keyframes spin {\n",
              "    0% {\n",
              "      border-color: transparent;\n",
              "      border-bottom-color: var(--fill-color);\n",
              "      border-left-color: var(--fill-color);\n",
              "    }\n",
              "    20% {\n",
              "      border-color: transparent;\n",
              "      border-left-color: var(--fill-color);\n",
              "      border-top-color: var(--fill-color);\n",
              "    }\n",
              "    30% {\n",
              "      border-color: transparent;\n",
              "      border-left-color: var(--fill-color);\n",
              "      border-top-color: var(--fill-color);\n",
              "      border-right-color: var(--fill-color);\n",
              "    }\n",
              "    40% {\n",
              "      border-color: transparent;\n",
              "      border-right-color: var(--fill-color);\n",
              "      border-top-color: var(--fill-color);\n",
              "    }\n",
              "    60% {\n",
              "      border-color: transparent;\n",
              "      border-right-color: var(--fill-color);\n",
              "    }\n",
              "    80% {\n",
              "      border-color: transparent;\n",
              "      border-right-color: var(--fill-color);\n",
              "      border-bottom-color: var(--fill-color);\n",
              "    }\n",
              "    90% {\n",
              "      border-color: transparent;\n",
              "      border-bottom-color: var(--fill-color);\n",
              "    }\n",
              "  }\n",
              "</style>\n",
              "\n",
              "  <script>\n",
              "    async function quickchart(key) {\n",
              "      const quickchartButtonEl =\n",
              "        document.querySelector('#' + key + ' button');\n",
              "      quickchartButtonEl.disabled = true;  // To prevent multiple clicks.\n",
              "      quickchartButtonEl.classList.add('colab-df-spinner');\n",
              "      try {\n",
              "        const charts = await google.colab.kernel.invokeFunction(\n",
              "            'suggestCharts', [key], {});\n",
              "      } catch (error) {\n",
              "        console.error('Error during call to suggestCharts:', error);\n",
              "      }\n",
              "      quickchartButtonEl.classList.remove('colab-df-spinner');\n",
              "      quickchartButtonEl.classList.add('colab-df-quickchart-complete');\n",
              "    }\n",
              "    (() => {\n",
              "      let quickchartButtonEl =\n",
              "        document.querySelector('#df-03e4fab2-4a49-48b3-8564-c14a8002eb2a button');\n",
              "      quickchartButtonEl.style.display =\n",
              "        google.colab.kernel.accessAllowed ? 'block' : 'none';\n",
              "    })();\n",
              "  </script>\n",
              "</div>\n",
              "    </div>\n",
              "  </div>\n"
            ],
            "application/vnd.google.colaboratory.intrinsic+json": {
              "type": "dataframe",
              "summary": "{\n  \"name\": \"df\",\n  \"rows\": 8,\n  \"fields\": [\n    {\n      \"column\": \"Open\",\n      \"properties\": {\n        \"dtype\": \"number\",\n        \"std\": 1864.512548900737,\n        \"min\": 809.1329091747386,\n        \"max\": 6325.0,\n        \"num_unique_values\": 8,\n        \"samples\": [\n          4162.454362017554,\n          4109.510009765625,\n          1272.0\n        ],\n        \"semantic_type\": \"\",\n        \"description\": \"\"\n      }\n    },\n    {\n      \"column\": \"High\",\n      \"properties\": {\n        \"dtype\": \"number\",\n        \"std\": 1882.8850748521747,\n        \"min\": 809.6750300810652,\n        \"max\": 6375.0,\n        \"num_unique_values\": 8,\n        \"samples\": [\n          4205.367448722792,\n          4147.69140625,\n          1272.0\n        ],\n        \"semantic_type\": \"\",\n        \"description\": \"\"\n      }\n    },\n    {\n      \"column\": \"Low\",\n      \"properties\": {\n        \"dtype\": \"number\",\n        \"std\": 1838.9747399731614,\n        \"min\": 811.8015965944837,\n        \"max\": 6225.0,\n        \"num_unique_values\": 8,\n        \"samples\": [\n          4114.033953876616,\n          4070.0,\n          1272.0\n        ],\n        \"semantic_type\": \"\",\n        \"description\": \"\"\n      }\n    },\n    {\n      \"column\": \"Close\",\n      \"properties\": {\n        \"dtype\": \"number\",\n        \"std\": 1864.4519391531667,\n        \"min\": 812.9460004022825,\n        \"max\": 6300.0,\n        \"num_unique_values\": 8,\n        \"samples\": [\n          4158.173428709402,\n          4109.510009765625,\n          1272.0\n        ],\n        \"semantic_type\": \"\",\n        \"description\": \"\"\n      }\n    },\n    {\n      \"column\": \"Adj Close\",\n      \"properties\": {\n        \"dtype\": \"number\",\n        \"std\": 1783.6955187593428,\n        \"min\": 942.4112401110821,\n        \"max\": 6300.0,\n        \"num_unique_values\": 8,\n        \"samples\": [\n          3764.0627674606612,\n          3568.853759765625,\n          1272.0\n        ],\n        \"semantic_type\": \"\",\n        \"description\": \"\"\n      }\n    },\n    {\n      \"column\": \"Volume\",\n      \"properties\": {\n        \"dtype\": \"number\",\n        \"std\": 312843203.76526517,\n        \"min\": 0.0,\n        \"max\": 959884609.0,\n        \"num_unique_values\": 8,\n        \"samples\": [\n          156589994.83333334,\n          131442105.5,\n          1272.0\n        ],\n        \"semantic_type\": \"\",\n        \"description\": \"\"\n      }\n    }\n  ]\n}"
            }
          },
          "metadata": {},
          "execution_count": 71
        }
      ]
    },
    {
      "cell_type": "markdown",
      "source": [
        "Berikut adalah penjelasan untuk setiap kolom:\n",
        "\n",
        "1. **Open (Pembukaan):**\n",
        "   - **Rata-rata:** 4162.45\n",
        "   - **Standar Deviasi:** 809.13\n",
        "   - **Minimum:** 2045.42\n",
        "   - **25%**: 3645.39\n",
        "   - **50%** (Median): 4109.51\n",
        "   - **75%**: 4650.00\n",
        "   - **Maksimum:** 6325.00\n",
        "   - **Keterangan:** Harga pembukaan rata-rata selama periode waktu tertentu adalah sekitar 4162.45, dengan fluktuasi standar sebesar 809.13. Harga pembukaan terendah mencapai 2045.42, sementara tertinggi mencapai 6325.00.\n",
        "\n",
        "2. **High (Tertinggi):**\n",
        "   - **Rata-rata:** 4205.37\n",
        "   - **Standar Deviasi:** 809.68\n",
        "   - **Minimum:** 2063.60\n",
        "   - **25%:** 3699.94\n",
        "   - **50% (Median):** 4147.69\n",
        "   - **75%:** 4682.50\n",
        "   - **Maksimum:** 6375.00\n",
        "   - **Keterangan:** Harga tertinggi rata-rata selama periode waktu tersebut adalah sekitar 4205.37. Harga tertinggi dalam periode tersebut mencapai 6375.00, sedangkan harga terendah adalah 2063.60.\n",
        "\n",
        "3. **Low (Terendah):**\n",
        "   - **Rata-rata:** 4114.03\n",
        "   - **Standar Deviasi:** 811.80\n",
        "   - **Minimum:** 1963.60\n",
        "   - **25%:** 3599.94\n",
        "   - **50% (Median):** 4070.00\n",
        "   - **75%:** 4600.00\n",
        "   - **Maksimum:** 6225.00\n",
        "   - **Keterangan:** Harga terendah rata-rata selama periode waktu tersebut adalah sekitar 4114.03. Harga terendah dalam periode tersebut mencapai 1963.60, sedangkan harga tertinggi adalah 6225.00.\n",
        "\n",
        "4. **Close (Penutupan):**\n",
        "   - **Rata-rata:** 4158.17\n",
        "   - **Standar Deviasi:** 812.95\n",
        "   - **Minimum:** 1972.69\n",
        "   - **Maksimum:** 6300.00\n",
        "   - **Keterangan:** Harga penutupan rata-rata selama periode waktu tersebut adalah sekitar 4158.17. Harga penutupan terendah mencapai 1972.69, sementara tertinggi adalah 6300.00.\n",
        "\n",
        "5. **Adj Close (Penutupan Disesuaikan):**\n",
        "   - **Rata-rata:** 3764.06\n",
        "   - **Standar Deviasi:** 942.41\n",
        "   - **Minimum:** 1717.86\n",
        "   - **25%:** 3644.04\n",
        "   - **50% (Median):** 4109.51\n",
        "   - **75%:** 4640.00\n",
        "   - **Maksimum:** 6300.00\n",
        "   - **Keterangan:** Harga penutupan disesuaikan rata-rata selama periode waktu tersebut adalah sekitar 3764.06. Harga penutupan disesuaikan terendah mencapai 1717.86, sementara tertinggi adalah 6300.00.\n",
        "\n",
        "6. **Volume:**\n",
        "   - **Rata-rata:** 1.565900e+08 (156,590,000)\n",
        "   - **Standar Deviasi:** 9.958485e+07 (99,584,850)\n",
        "   - **Minimum:** 0\n",
        "   - **25%:** 9.579682e+07 (95,796,820)\n",
        "   - **50% (Median):** 1.314421e+08 (131,442,100)\n",
        "   - **75%:** 1.844417e+08 (184,441,700)\n",
        "   - **Maksimum:** 9.598846e+08 (959,884,600)\n",
        "   - **Keterangan:** Volume perdagangan rata-rata selama periode tersebut adalah sekitar 156,590,000. Volume perdagangan terendah adalah 0 (karna padda awal Saham IPO biasanya belum tercatat berapa lot telah dibeli lalu di hari berikutnya baru tercatat total lot yang sudah dimiliki investor), sementara tertinggi mencapai 959,884,600."
      ],
      "metadata": {
        "id": "q_OSzaKKV28E"
      }
    },
    {
      "cell_type": "markdown",
      "source": [
        "##**Exploratory Data Analysis**"
      ],
      "metadata": {
        "id": "YVd8wfBkV9OE"
      }
    },
    {
      "cell_type": "markdown",
      "source": [
        "####candlestick chart"
      ],
      "metadata": {
        "id": "ZD3ai-V_irb7"
      }
    },
    {
      "cell_type": "code",
      "source": [
        "fig = go.Figure(data=[go.Candlestick(x=df['Date'],\n",
        "                open=df['Open'],\n",
        "                high=df['High'],\n",
        "                low=df['Low'],\n",
        "                close=df['Close'])])\n",
        "\n",
        "\n",
        "\n",
        "\n",
        "fig.update_layout(title='Candlestick Chart',\n",
        "                  xaxis_title='Date',\n",
        "                  yaxis_title='Stock Price (IDR)',\n",
        "                  xaxis_rangeslider_visible=False,\n",
        "                  template='plotly_dark')\n",
        "\n",
        "fig.show()\n"
      ],
      "metadata": {
        "id": "cHQ3m3fKClGz"
      },
      "execution_count": null,
      "outputs": []
    },
    {
      "cell_type": "markdown",
      "source": [
        "1. Tren dan Fluktuasi:\n",
        "Dapat dilihat dari visualisasi Time Series bahwa volume perdagangan saham BBRI mengalami fluktuasi yang signifikan dari waktu ke waktu. bullish and bearish pada grafik dapat mengindikasikan periode dengan volume tinggi atau rendah.\n",
        "1. Pola dan Perubahan:\n",
        "Analisis histogram distribusi volume dapat memberikan wawasan tentang pola atau perubahan dalam volume perdagangan. Jika distribusi memiliki beberapa puncak, mungkin ada pola tertentu yang perlu dianalisis lebih lanjut."
      ],
      "metadata": {
        "id": "rkDBHfG-v2kJ"
      }
    },
    {
      "cell_type": "code",
      "source": [
        "display(Image(filename='/content/stock-market-basics-candlestick-patterns.png'))"
      ],
      "metadata": {
        "colab": {
          "base_uri": "https://localhost:8080/",
          "height": 913
        },
        "id": "yMiccIgbsxga",
        "outputId": "3a9d84f4-a3b5-47fd-97a8-45da80080871"
      },
      "execution_count": 73,
      "outputs": [
        {
          "output_type": "display_data",
          "data": {
            "image/png": "[encoded data removed]",
            "text/plain": [
              "<IPython.core.display.Image object>"
            ]
          },
          "metadata": {}
        }
      ]
    },
    {
      "cell_type": "markdown",
      "source": [
        "1. Bagian Utama: Body (Badan) Candlestick<br>\n",
        "Badan candlestick mewakili rentang antara harga pembukaan (Open) dan harga penutupan (Close) pada periode tertentu. Jika harga penutupan lebih tinggi daripada harga pembukaan, maka badan candlestick akan diwarnai (biasanya) dengan warna putih atau hijau, menunjukkan sentimen positif. Sebaliknya, jika harga penutupan lebih rendah daripada harga pembukaan, badan candlestick akan diwarnai dengan warna hitam atau merah, menunjukkan sentimen negatif.<br>\n",
        "\n",
        "1. Garis-garis atau Sumbu: Shadow atau Wick (Sumbu Atas dan Sumbu Bawah)<br>\n",
        "Sumbu atas menunjukkan harga tertinggi (High) yang dicapai selama periode tersebut.\n",
        "Sumbu bawah menunjukkan harga terendah (Low) yang dicapai selama periode tersebut.<br>\n",
        "\n",
        "1. Panjang Badan Candlestick:<br>\n",
        "Panjang badan candlestick memberikan indikasi tentang seberapa besar pergerakan harga pada periode tersebut. Candlestick dengan badan panjang menunjukkan pergerakan harga yang signifikan, sedangkan candlestick dengan badan pendek menunjukkan pergerakan harga yang lebih kecil.<br>\n",
        "\n",
        "1. Pattern dan Formasi Candlestick:<br>Pola dan formasi candlestick tertentu, seperti \"doji\", \"engulfing\", atau \"hammer\", dapat memberikan petunjuk tentang potensi perubahan dalam tren atau pembalikan arah harga.<br>\n",
        "1. Tren:<br>\n",
        "Pada umumnya, jika candlestick-candlestick berturut-turut menunjukkan badan yang semakin tinggi (uptrend) atau semakin rendah (downtrend), ini bisa memberikan indikasi tentang kekuatan tren yang sedang berlangsung."
      ],
      "metadata": {
        "id": "uPYby38gsSrz"
      }
    },
    {
      "cell_type": "markdown",
      "source": [
        "####Korelasi"
      ],
      "metadata": {
        "id": "Ucqj83d-ONVk"
      }
    },
    {
      "cell_type": "code",
      "source": [
        "\n",
        "# Korelasi antar variabel\n",
        "correlation_matrix = df.corr()\n",
        "plt.figure(figsize=(10, 6))\n",
        "sns.heatmap(correlation_matrix, annot=True, cmap='coolwarm', linewidths=0.5)\n",
        "plt.title('Korelasi Antar Variabel')\n",
        "plt.show()"
      ],
      "metadata": {
        "colab": {
          "base_uri": "https://localhost:8080/",
          "height": 634
        },
        "id": "V6rrs4GEmBBb",
        "outputId": "4e763d9f-1141-475b-dc93-9bde7abee654"
      },
      "execution_count": 103,
      "outputs": [
        {
          "output_type": "stream",
          "name": "stderr",
          "text": [
            "<ipython-input-103-2345c0cd3f3b>:2: FutureWarning:\n",
            "\n",
            "The default value of numeric_only in DataFrame.corr is deprecated. In a future version, it will default to False. Select only valid columns or specify the value of numeric_only to silence this warning.\n",
            "\n"
          ]
        },
        {
          "output_type": "display_data",
          "data": {
            "text/plain": [
              "<Figure size 1000x600 with 2 Axes>"
            ],
            "image/png": "[encoded data removed]"
          },
          "metadata": {}
        }
      ]
    },
    {
      "cell_type": "markdown",
      "source": [
        "1. Harga Saham dengan Volume Perdagangan:<BR>\n",
        "Jika terdapat korelasi positif yang signifikan, artinya ada kecenderungan bahwa ketika harga saham naik, volume perdagangan juga meningkat, dan sebaliknya.<BR>\n",
        "1. Harga Saham dengan Perubahan Persentase:<BR>\n",
        "Korelasi positif yang signifikan mungkin menunjukkan bahwa perubahan harga saham berkorelasi dengan perubahan persentase, yang dapat memberikan wawasan tentang volatilitas pasar.<BR>\n",
        "1. Volume Perdagangan dengan Perubahan Persentase:<BR>\n",
        "Jika terdapat korelasi positif, hal tersebut dapat menunjukkan bahwa volume perdagangan meningkat saat terjadi perubahan persentase yang besar, yang mungkin terkait dengan aktivitas pasar yang lebih tinggi.<BR>\n",
        "1. Variabel Lainnya:<BR>\n",
        "Korelasi antar variabel lainnya juga dapat memberikan wawasan tentang hubungan-hubungan tertentu di dalam dataset. Sebagai contoh, jika ada variabel lain yang memiliki korelasi tinggi dengan harga saham, hal tersebut dapat dijadikan fokus untuk analisis lebih lanjut."
      ],
      "metadata": {
        "id": "FdRXW0Clo2qz"
      }
    },
    {
      "cell_type": "markdown",
      "source": [
        "#####perbandingan volume tahunan saham BBRI"
      ],
      "metadata": {
        "id": "kDpFB0Qb23VD"
      }
    },
    {
      "cell_type": "code",
      "source": [
        "# Konversi kolom 'Date' ke tipe data datetime\n",
        "df['Date'] = pd.to_datetime(df['Date'])\n",
        "\n",
        "# Ekstraksi tahun dan bulan dari kolom 'Date'\n",
        "df['Year'] = df['Date'].dt.year\n",
        "df['Month'] = df['Date'].dt.month_name()\n",
        "\n",
        "# Filter data untuk tahun-tahun yang diminta\n",
        "selected_years = [2019, 2020, 2021, 2022, 2023, 2024]\n",
        "df_selected_years = df[df['Year'].isin(selected_years)]\n",
        "\n",
        "# Membuat candlestick chart per bulan untuk setiap tahun\n",
        "for year in selected_years:\n",
        "    df_year = df_selected_years[df_selected_years['Year'] == year]\n",
        "\n",
        "    fig = go.Figure(data=[go.Candlestick(x=df_year['Date'],\n",
        "                                         open=df_year['Open'],\n",
        "                                         high=df_year['High'],\n",
        "                                         low=df_year['Low'],\n",
        "                                         close=df_year['Close'])])\n",
        "\n",
        "    fig.update_layout(title=f'Candlestick Chart Saham BBRI Tahun {year}',\n",
        "                      xaxis_title='Tanggal',\n",
        "                      yaxis_title='Harga Saham (IDR)',\n",
        "                      xaxis_rangeslider_visible=False,\n",
        "                      template='plotly_dark')\n",
        "\n",
        "    fig.show()\n",
        ""
      ],
      "metadata": {
        "id": "de7bPnRc7IPj"
      },
      "execution_count": null,
      "outputs": []
    },
    {
      "cell_type": "code",
      "source": [
        "# Konversi kolom 'Date' ke tipe data datetime\n",
        "df['Date'] = pd.to_datetime(df['Date'])\n",
        "\n",
        "# Ekstraksi tahun dan bulan dari kolom 'Date'\n",
        "df['Year'] = df['Date'].dt.year\n",
        "df['Month'] = df['Date'].dt.month_name()\n",
        "\n",
        "# Filter data untuk tahun-tahun yang diminta\n",
        "selected_years = [2019, 2020, 2021, 2022, 2023, 2024]\n",
        "df_selected_years = df[df['Year'].isin(selected_years)]\n",
        "\n",
        "# Grouping berdasarkan tahun dan bulan, menghitung total volume\n",
        "volume_per_month = df_selected_years.groupby(['Year', 'Month'])['Volume'].sum()\n",
        "\n",
        "# Membuat diagram pie untuk setiap tahun\n",
        "for year in selected_years:\n",
        "    volume_per_year = volume_per_month.loc[year]\n",
        "\n",
        "    plt.figure(figsize=(8, 8))\n",
        "    plt.pie(volume_per_year, labels=volume_per_year.index, autopct='%1.1f%%', startangle=140, colors=plt.cm.Paired.colors)\n",
        "    plt.title(f'Perbandingan Volume Saham BBRI Bulanan Tahun {year}')\n",
        "    plt.show()"
      ],
      "metadata": {
        "id": "2zkYdlE_yErm"
      },
      "execution_count": null,
      "outputs": []
    },
    {
      "cell_type": "markdown",
      "source": [
        "Perbandingan Volume per Tahun:<br>\n",
        "**Volume BBRI menunjukkan tren naik dari tahun 2019 hingga 2024.** Tahun 2024 memiliki volume tertinggi, diikuti oleh tahun 2023 dan 2022.<br>\n",
        "**Fluktuasi volume antar bulan dalam setiap tahun cukup signifikan.** Kenaikan dan penurunan volume terjadi di berbagai bulan, dan tidak ada pola yang konsisten.\n",
        "\n",
        "Perbandingan Volume per Bulan:<br>\n",
        "**Secara umum, volume BBRI lebih tinggi di bulan-bulan akhir tahun** (Desember, November, Oktober) dibandingkan dengan bulan-bulan awal tahun. Hal ini mungkin terkait dengan aktivitas investor menjelang akhir tahun.<br>\n",
        "\n",
        "**Beberapa bulan menunjukkan lonjakan volume yang signifikan, seperti pada bulan Desember 2023 dan November 2024**. Hal ini mungkin disebabkan oleh peristiwa atau berita tertentu yang mempengaruhi pasar saham.."
      ],
      "metadata": {
        "id": "-wG9xFrs3KOY"
      }
    },
    {
      "cell_type": "markdown",
      "source": [
        "##**Verify Data Quality**"
      ],
      "metadata": {
        "id": "BqwrKc6WXFpz"
      }
    },
    {
      "cell_type": "markdown",
      "source": [
        "####Missing Values"
      ],
      "metadata": {
        "id": "JrPhpE3VXTMR"
      }
    },
    {
      "cell_type": "code",
      "source": [
        "df.isnull().sum()"
      ],
      "metadata": {
        "id": "iq2vTmQJXhuj",
        "colab": {
          "base_uri": "https://localhost:8080/"
        },
        "outputId": "caef2b8b-ea1c-49ce-cb64-094156752f98"
      },
      "execution_count": 76,
      "outputs": [
        {
          "output_type": "execute_result",
          "data": {
            "text/plain": [
              "Date         0\n",
              "Open         0\n",
              "High         0\n",
              "Low          0\n",
              "Close        0\n",
              "Adj Close    0\n",
              "Volume       0\n",
              "dtype: int64"
            ]
          },
          "metadata": {},
          "execution_count": 76
        }
      ]
    },
    {
      "cell_type": "markdown",
      "source": [
        "Dari tabel diatas, terlihat jika semua kolom memiliki nilai null ratio yang sama yaitu 0.0. Jika Null Ratio adalah 0.0, itu berarti tidak ada data yang hilang atau kosong dalam kolom tersebut. Artinya, setiap baris dalam kolom memiliki nilai yang valid atau terisi. karna data set yang saya gunakan adalah dataset histori saham jadi kecil kemungkinan nya memiliki kekosongan di salah satu baris dalam kolom\n"
      ],
      "metadata": {
        "id": "2qJ5hwEqXoLo"
      }
    },
    {
      "cell_type": "markdown",
      "source": [
        "####Outliers Values"
      ],
      "metadata": {
        "id": "jEeCU-vVXV84"
      }
    },
    {
      "cell_type": "code",
      "source": [
        "results = []\n",
        "\n",
        "cols = df.select_dtypes(include=['float64', 'int64'])\n",
        "\n",
        "for col in cols:\n",
        "  q1 = df[col].quantile(0.25)\n",
        "  q3 = df[col].quantile(0.75)\n",
        "  iqr = q3 - q1\n",
        "  lower_bound = q1 - 1.5*iqr\n",
        "  upper_bound = q3 + 1.5*iqr\n",
        "  outliers = df[(df[col] < lower_bound) | (df[col] > upper_bound)]\n",
        "  percent_outliers = (len(outliers)/len(df))*100\n",
        "  results.append({'Kolom': col, 'Persentase Outliers': percent_outliers})\n",
        "\n",
        "# Dataframe dari list hasil\n",
        "results_df = pd.DataFrame(results)\n",
        "results_df.set_index('Kolom', inplace=True)\n",
        "results_df = results_df.rename_axis(None, axis=0).rename_axis('Kolom', axis=1)\n",
        "\n",
        "# Tampilkan dataframe\n",
        "display(results_df)"
      ],
      "metadata": {
        "id": "HGiqZ6aOX6HY",
        "colab": {
          "base_uri": "https://localhost:8080/",
          "height": 237
        },
        "outputId": "0d438164-248e-4fc0-c4da-5bb394ed1cdf"
      },
      "execution_count": 125,
      "outputs": [
        {
          "output_type": "display_data",
          "data": {
            "text/plain": [
              "Kolom      Persentase Outliers\n",
              "Open                  0.471698\n",
              "High                  1.100629\n",
              "Low                   0.707547\n",
              "Close                 0.707547\n",
              "Adj Close             0.864780\n",
              "Volume                6.289308"
            ],
            "text/html": [
              "\n",
              "  <div id=\"df-dfd2a0ca-6878-4ae1-b2fe-2ac507515bea\" class=\"colab-df-container\">\n",
              "    <div>\n",
              "<style scoped>\n",
              "    .dataframe tbody tr th:only-of-type {\n",
              "        vertical-align: middle;\n",
              "    }\n",
              "\n",
              "    .dataframe tbody tr th {\n",
              "        vertical-align: top;\n",
              "    }\n",
              "\n",
              "    .dataframe thead th {\n",
              "        text-align: right;\n",
              "    }\n",
              "</style>\n",
              "<table border=\"1\" class=\"dataframe\">\n",
              "  <thead>\n",
              "    <tr style=\"text-align: right;\">\n",
              "      <th>Kolom</th>\n",
              "      <th>Persentase Outliers</th>\n",
              "    </tr>\n",
              "  </thead>\n",
              "  <tbody>\n",
              "    <tr>\n",
              "      <th>Open</th>\n",
              "      <td>0.471698</td>\n",
              "    </tr>\n",
              "    <tr>\n",
              "      <th>High</th>\n",
              "      <td>1.100629</td>\n",
              "    </tr>\n",
              "    <tr>\n",
              "      <th>Low</th>\n",
              "      <td>0.707547</td>\n",
              "    </tr>\n",
              "    <tr>\n",
              "      <th>Close</th>\n",
              "      <td>0.707547</td>\n",
              "    </tr>\n",
              "    <tr>\n",
              "      <th>Adj Close</th>\n",
              "      <td>0.864780</td>\n",
              "    </tr>\n",
              "    <tr>\n",
              "      <th>Volume</th>\n",
              "      <td>6.289308</td>\n",
              "    </tr>\n",
              "  </tbody>\n",
              "</table>\n",
              "</div>\n",
              "    <div class=\"colab-df-buttons\">\n",
              "\n",
              "  <div class=\"colab-df-container\">\n",
              "    <button class=\"colab-df-convert\" onclick=\"convertToInteractive('df-dfd2a0ca-6878-4ae1-b2fe-2ac507515bea')\"\n",
              "            title=\"Convert this dataframe to an interactive table.\"\n",
              "            style=\"display:none;\">\n",
              "\n",
              "  <svg xmlns=\"http://www.w3.org/2000/svg\" height=\"24px\" viewBox=\"0 -960 960 960\">\n",
              "    <path d=\"M120-120v-720h720v720H120Zm60-500h600v-160H180v160Zm220 220h160v-160H400v160Zm0 220h160v-160H400v160ZM180-400h160v-160H180v160Zm440 0h160v-160H620v160ZM180-180h160v-160H180v160Zm440 0h160v-160H620v160Z\"/>\n",
              "  </svg>\n",
              "    </button>\n",
              "\n",
              "  <style>\n",
              "    .colab-df-container {\n",
              "      display:flex;\n",
              "      gap: 12px;\n",
              "    }\n",
              "\n",
              "    .colab-df-convert {\n",
              "      background-color: #E8F0FE;\n",
              "      border: none;\n",
              "      border-radius: 50%;\n",
              "      cursor: pointer;\n",
              "      display: none;\n",
              "      fill: #1967D2;\n",
              "      height: 32px;\n",
              "      padding: 0 0 0 0;\n",
              "      width: 32px;\n",
              "    }\n",
              "\n",
              "    .colab-df-convert:hover {\n",
              "      background-color: #E2EBFA;\n",
              "      box-shadow: 0px 1px 2px rgba(60, 64, 67, 0.3), 0px 1px 3px 1px rgba(60, 64, 67, 0.15);\n",
              "      fill: #174EA6;\n",
              "    }\n",
              "\n",
              "    .colab-df-buttons div {\n",
              "      margin-bottom: 4px;\n",
              "    }\n",
              "\n",
              "    [theme=dark] .colab-df-convert {\n",
              "      background-color: #3B4455;\n",
              "      fill: #D2E3FC;\n",
              "    }\n",
              "\n",
              "    [theme=dark] .colab-df-convert:hover {\n",
              "      background-color: #434B5C;\n",
              "      box-shadow: 0px 1px 3px 1px rgba(0, 0, 0, 0.15);\n",
              "      filter: drop-shadow(0px 1px 2px rgba(0, 0, 0, 0.3));\n",
              "      fill: #FFFFFF;\n",
              "    }\n",
              "  </style>\n",
              "\n",
              "    <script>\n",
              "      const buttonEl =\n",
              "        document.querySelector('#df-dfd2a0ca-6878-4ae1-b2fe-2ac507515bea button.colab-df-convert');\n",
              "      buttonEl.style.display =\n",
              "        google.colab.kernel.accessAllowed ? 'block' : 'none';\n",
              "\n",
              "      async function convertToInteractive(key) {\n",
              "        const element = document.querySelector('#df-dfd2a0ca-6878-4ae1-b2fe-2ac507515bea');\n",
              "        const dataTable =\n",
              "          await google.colab.kernel.invokeFunction('convertToInteractive',\n",
              "                                                    [key], {});\n",
              "        if (!dataTable) return;\n",
              "\n",
              "        const docLinkHtml = 'Like what you see? Visit the ' +\n",
              "          '<a target=\"_blank\" href=https://colab.research.google.com/notebooks/data_table.ipynb>data table notebook</a>'\n",
              "          + ' to learn more about interactive tables.';\n",
              "        element.innerHTML = '';\n",
              "        dataTable['output_type'] = 'display_data';\n",
              "        await google.colab.output.renderOutput(dataTable, element);\n",
              "        const docLink = document.createElement('div');\n",
              "        docLink.innerHTML = docLinkHtml;\n",
              "        element.appendChild(docLink);\n",
              "      }\n",
              "    </script>\n",
              "  </div>\n",
              "\n",
              "\n",
              "<div id=\"df-a7df39b0-41b3-4f93-803e-ffdba84e59fd\">\n",
              "  <button class=\"colab-df-quickchart\" onclick=\"quickchart('df-a7df39b0-41b3-4f93-803e-ffdba84e59fd')\"\n",
              "            title=\"Suggest charts\"\n",
              "            style=\"display:none;\">\n",
              "\n",
              "<svg xmlns=\"http://www.w3.org/2000/svg\" height=\"24px\"viewBox=\"0 0 24 24\"\n",
              "     width=\"24px\">\n",
              "    <g>\n",
              "        <path d=\"M19 3H5c-1.1 0-2 .9-2 2v14c0 1.1.9 2 2 2h14c1.1 0 2-.9 2-2V5c0-1.1-.9-2-2-2zM9 17H7v-7h2v7zm4 0h-2V7h2v10zm4 0h-2v-4h2v4z\"/>\n",
              "    </g>\n",
              "</svg>\n",
              "  </button>\n",
              "\n",
              "<style>\n",
              "  .colab-df-quickchart {\n",
              "      --bg-color: #E8F0FE;\n",
              "      --fill-color: #1967D2;\n",
              "      --hover-bg-color: #E2EBFA;\n",
              "      --hover-fill-color: #174EA6;\n",
              "      --disabled-fill-color: #AAA;\n",
              "      --disabled-bg-color: #DDD;\n",
              "  }\n",
              "\n",
              "  [theme=dark] .colab-df-quickchart {\n",
              "      --bg-color: #3B4455;\n",
              "      --fill-color: #D2E3FC;\n",
              "      --hover-bg-color: #434B5C;\n",
              "      --hover-fill-color: #FFFFFF;\n",
              "      --disabled-bg-color: #3B4455;\n",
              "      --disabled-fill-color: #666;\n",
              "  }\n",
              "\n",
              "  .colab-df-quickchart {\n",
              "    background-color: var(--bg-color);\n",
              "    border: none;\n",
              "    border-radius: 50%;\n",
              "    cursor: pointer;\n",
              "    display: none;\n",
              "    fill: var(--fill-color);\n",
              "    height: 32px;\n",
              "    padding: 0;\n",
              "    width: 32px;\n",
              "  }\n",
              "\n",
              "  .colab-df-quickchart:hover {\n",
              "    background-color: var(--hover-bg-color);\n",
              "    box-shadow: 0 1px 2px rgba(60, 64, 67, 0.3), 0 1px 3px 1px rgba(60, 64, 67, 0.15);\n",
              "    fill: var(--button-hover-fill-color);\n",
              "  }\n",
              "\n",
              "  .colab-df-quickchart-complete:disabled,\n",
              "  .colab-df-quickchart-complete:disabled:hover {\n",
              "    background-color: var(--disabled-bg-color);\n",
              "    fill: var(--disabled-fill-color);\n",
              "    box-shadow: none;\n",
              "  }\n",
              "\n",
              "  .colab-df-spinner {\n",
              "    border: 2px solid var(--fill-color);\n",
              "    border-color: transparent;\n",
              "    border-bottom-color: var(--fill-color);\n",
              "    animation:\n",
              "      spin 1s steps(1) infinite;\n",
              "  }\n",
              "\n",
              "  @keyframes spin {\n",
              "    0% {\n",
              "      border-color: transparent;\n",
              "      border-bottom-color: var(--fill-color);\n",
              "      border-left-color: var(--fill-color);\n",
              "    }\n",
              "    20% {\n",
              "      border-color: transparent;\n",
              "      border-left-color: var(--fill-color);\n",
              "      border-top-color: var(--fill-color);\n",
              "    }\n",
              "    30% {\n",
              "      border-color: transparent;\n",
              "      border-left-color: var(--fill-color);\n",
              "      border-top-color: var(--fill-color);\n",
              "      border-right-color: var(--fill-color);\n",
              "    }\n",
              "    40% {\n",
              "      border-color: transparent;\n",
              "      border-right-color: var(--fill-color);\n",
              "      border-top-color: var(--fill-color);\n",
              "    }\n",
              "    60% {\n",
              "      border-color: transparent;\n",
              "      border-right-color: var(--fill-color);\n",
              "    }\n",
              "    80% {\n",
              "      border-color: transparent;\n",
              "      border-right-color: var(--fill-color);\n",
              "      border-bottom-color: var(--fill-color);\n",
              "    }\n",
              "    90% {\n",
              "      border-color: transparent;\n",
              "      border-bottom-color: var(--fill-color);\n",
              "    }\n",
              "  }\n",
              "</style>\n",
              "\n",
              "  <script>\n",
              "    async function quickchart(key) {\n",
              "      const quickchartButtonEl =\n",
              "        document.querySelector('#' + key + ' button');\n",
              "      quickchartButtonEl.disabled = true;  // To prevent multiple clicks.\n",
              "      quickchartButtonEl.classList.add('colab-df-spinner');\n",
              "      try {\n",
              "        const charts = await google.colab.kernel.invokeFunction(\n",
              "            'suggestCharts', [key], {});\n",
              "      } catch (error) {\n",
              "        console.error('Error during call to suggestCharts:', error);\n",
              "      }\n",
              "      quickchartButtonEl.classList.remove('colab-df-spinner');\n",
              "      quickchartButtonEl.classList.add('colab-df-quickchart-complete');\n",
              "    }\n",
              "    (() => {\n",
              "      let quickchartButtonEl =\n",
              "        document.querySelector('#df-a7df39b0-41b3-4f93-803e-ffdba84e59fd button');\n",
              "      quickchartButtonEl.style.display =\n",
              "        google.colab.kernel.accessAllowed ? 'block' : 'none';\n",
              "    })();\n",
              "  </script>\n",
              "</div>\n",
              "    </div>\n",
              "  </div>\n"
            ],
            "application/vnd.google.colaboratory.intrinsic+json": {
              "type": "dataframe",
              "variable_name": "results_df",
              "summary": "{\n  \"name\": \"results_df\",\n  \"rows\": 6,\n  \"fields\": [\n    {\n      \"column\": \"Persentase Outliers\",\n      \"properties\": {\n        \"dtype\": \"number\",\n        \"std\": 2.262594459758953,\n        \"min\": 0.4716981132075472,\n        \"max\": 6.289308176100629,\n        \"num_unique_values\": 5,\n        \"samples\": [\n          1.10062893081761,\n          6.289308176100629,\n          0.7075471698113208\n        ],\n        \"semantic_type\": \"\",\n        \"description\": \"\"\n      }\n    }\n  ]\n}"
            }
          },
          "metadata": {}
        }
      ]
    },
    {
      "cell_type": "markdown",
      "source": [
        "1. Open:\n",
        "<br>Persentase Outliers: Persentase nilai outliers dalam kolom 'Open'.\n",
        "<br>Interpretasi: Persentase outliers ini memberikan informasi tentang seberapa banyak nilai di kolom 'Open' berada di luar kisaran yang dianggap normal.<br>\n",
        "1. High:\n",
        "<br>Persentase Outliers: Persentase nilai outliers dalam kolom 'High'.\n",
        "<br>Interpretasi: Persentase outliers di 'High' memberikan gambaran tentang seberapa jauh nilai tertinggi (High) melebihi kisaran yang dianggap normal.<br>\n",
        "1. Low:\n",
        "<br>Persentase Outliers: Persentase nilai outliers dalam kolom 'Low'.\n",
        "<br>Interpretasi: Persentase outliers di 'Low' menunjukkan seberapa banyak nilai terendah (Low) berada di luar rentang yang dianggap normal.<br>\n",
        "1. Close:\n",
        "<br>Persentase Outliers: Persentase nilai outliers dalam kolom 'Close'.\n",
        "<br>Interpretasi: Persentase outliers pada 'Close' memberikan gambaran tentang seberapa jauh nilai penutupan (Close) berada di luar rentang yang dianggap normal.<br>\n",
        "1. Adj Close:\n",
        "<br>Persentase Outliers: Persentase nilai outliers dalam kolom 'Adj Close'.<br>Interpretasi: Persentase outliers pada 'Adj Close' menunjukkan seberapa banyak nilai penutupan yang disesuaikan (Adj Close) berada di luar rentang yang dianggap normal.<br>\n",
        "1. Volume:\n",
        "<br>Persentase Outliers: Persentase nilai outliers dalam kolom 'Volume'.\n",
        "<br>Interpretasi: Persentase outliers pada 'Volume' memberikan informasi tentang seberapa banyak volume perdagangan berada di luar rentang yang dianggap normal."
      ],
      "metadata": {
        "id": "ggn0R2wCXuSC"
      }
    },
    {
      "cell_type": "markdown",
      "source": [
        "####Duplicated Values"
      ],
      "metadata": {
        "id": "vWjwGwZaXaod"
      }
    },
    {
      "cell_type": "code",
      "source": [
        "# Cek apakah ada duplikat\n",
        "if df.duplicated().any():\n",
        "    print(\"Ada duplikat dalam DataFrame.\")\n",
        "else:\n",
        "    print(\"Tidak ada duplikat dalam DataFrame.\")"
      ],
      "metadata": {
        "id": "7wcta1dbX8l3",
        "colab": {
          "base_uri": "https://localhost:8080/"
        },
        "outputId": "c632f8e3-cf2d-4a2f-c8a6-fb628d040bec"
      },
      "execution_count": 117,
      "outputs": [
        {
          "output_type": "stream",
          "name": "stdout",
          "text": [
            "Tidak ada duplikat dalam DataFrame.\n"
          ]
        }
      ]
    },
    {
      "cell_type": "markdown",
      "source": [
        "Dataset tidak memiliki duplikat jika setiap barisnya unik, artinya tidak ada baris yang sama persis dengan baris lainnya."
      ],
      "metadata": {
        "id": "VKTUrMJAX0fv"
      }
    },
    {
      "cell_type": "markdown",
      "source": [
        "####Inconsistent Values / Noise (Optional)"
      ],
      "metadata": {
        "id": "q0_lULWDX-y6"
      }
    },
    {
      "cell_type": "code",
      "source": [
        "# Load data dari file CSV\n",
        "df = pd.read_csv('https://raw.githubusercontent.com/eyotaa/MiniProject_DataMining/main/checkpoin%201/BBRI.JK.csv')\n",
        "\n",
        "# Menampilkan informasi umum tentang dataset\n",
        "print(\"Informasi Dataset Sebelum Pembersihan:\")\n",
        "print(df.info())\n",
        "\n",
        "# Mendeteksi nilai-nilai yang mungkin inkonsisten\n",
        "inconsistent_values = df[df['Low'] > df['High']]\n",
        "\n",
        "# Menampilkan data yang mengandung inconsistent values\n",
        "print(\"\\nData dengan Inconsistent Values:\")\n",
        "print(inconsistent_values)\n",
        "\n",
        "# Mengatasi inconsistent values dengan menukar nilai High dan Low jika Low > High\n",
        "df.loc[inconsistent_values.index, ['Low', 'High']] = df.loc[inconsistent_values.index, ['High', 'Low']].values\n",
        "\n",
        "# Menampilkan informasi umum setelah pembersihan\n",
        "print(\"\\nInformasi Dataset Setelah Pembersihan:\")\n",
        "print(df.info())"
      ],
      "metadata": {
        "id": "cnvHMqE3YawE",
        "colab": {
          "base_uri": "https://localhost:8080/"
        },
        "outputId": "e5e2a300-be28-4add-c703-17340c15cc0b"
      },
      "execution_count": 134,
      "outputs": [
        {
          "output_type": "stream",
          "name": "stdout",
          "text": [
            "Informasi Dataset Sebelum Pembersihan:\n",
            "<class 'pandas.core.frame.DataFrame'>\n",
            "RangeIndex: 1272 entries, 0 to 1271\n",
            "Data columns (total 7 columns):\n",
            " #   Column     Non-Null Count  Dtype  \n",
            "---  ------     --------------  -----  \n",
            " 0   Date       1272 non-null   object \n",
            " 1   Open       1272 non-null   float64\n",
            " 2   High       1272 non-null   float64\n",
            " 3   Low        1272 non-null   float64\n",
            " 4   Close      1272 non-null   float64\n",
            " 5   Adj Close  1272 non-null   float64\n",
            " 6   Volume     1272 non-null   int64  \n",
            "dtypes: float64(5), int64(1), object(1)\n",
            "memory usage: 69.7+ KB\n",
            "None\n",
            "\n",
            "Data dengan Inconsistent Values:\n",
            "Empty DataFrame\n",
            "Columns: [Date, Open, High, Low, Close, Adj Close, Volume]\n",
            "Index: []\n",
            "\n",
            "Informasi Dataset Setelah Pembersihan:\n",
            "<class 'pandas.core.frame.DataFrame'>\n",
            "RangeIndex: 1272 entries, 0 to 1271\n",
            "Data columns (total 7 columns):\n",
            " #   Column     Non-Null Count  Dtype  \n",
            "---  ------     --------------  -----  \n",
            " 0   Date       1272 non-null   object \n",
            " 1   Open       1272 non-null   float64\n",
            " 2   High       1272 non-null   float64\n",
            " 3   Low        1272 non-null   float64\n",
            " 4   Close      1272 non-null   float64\n",
            " 5   Adj Close  1272 non-null   float64\n",
            " 6   Volume     1272 non-null   int64  \n",
            "dtypes: float64(5), int64(1), object(1)\n",
            "memory usage: 69.7+ KB\n",
            "None\n"
          ]
        }
      ]
    },
    {
      "cell_type": "markdown",
      "source": [
        "1. Informasi Dataset Sebelum Pembersihan:\n",
        "<br>Dengan menggunakan metode info(), mendapatkan informasi umum tentang dataset, termasuk jumlah baris, kolom, dan tipe data masing-masing kolom.\n",
        "1. Data dengan Inconsistent Values:\n",
        "<br>mencari baris-baris di mana nilai 'Low' (harga terendah) lebih tinggi dari nilai 'High' (harga tertinggi). Ini menunjukkan bahwa ada inkonsistensi dalam data, karena harga terendah seharusnya tidak lebih tinggi dari harga tertinggi.\n",
        "1. Pembersihan Data:\n",
        "<br>Untuk mengatasi inconsistent values, menukar nilai 'High' dan 'Low'. Hal ini dilakukan untuk memastikan bahwa nilai 'Low' selalu lebih rendah dari nilai 'High', sesuai dengan logika dalam data saham.\n",
        "1. Informasi Dataset Setelah Pembersihan:\n",
        "<br> tidak ada lagi baris di mana nilai 'Low' lebih tinggi dari nilai 'High'."
      ],
      "metadata": {
        "id": "zN9xijkWYhq2"
      }
    }
  ]
}